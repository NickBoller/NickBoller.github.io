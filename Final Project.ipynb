{
 "cells": [
  {
   "cell_type": "markdown",
   "metadata": {},
   "source": [
    "# Final Project"
   ]
  },
  {
   "cell_type": "markdown",
   "metadata": {},
   "source": [
    "1. (DONE)What is/are the most popular videos\n",
    "2. (DONE)What is/are the most popular channels\n",
    "3. (DONE)Plot Time series chart of all views\n",
    "4. (DONE)Which youtube categories are the most popular\n",
    "5. Average time it takes a video to trend since publish time\n",
    "6. Try to find features that make a video popular, X: title(caps?), channel, video category, time video is posted, tags, description. y = total_engagement -> p value/t test to determine most significant predictors?\n",
    "- Define total_engagement: views + likes + dislikes + comments\n",
    "- MAKE SURE TO ADD EXTERNAL LINKS TO HELP GET UNEDUCATED READERS UP TO SPEED\n",
    "- GOAL: WHAT DETERMINES IF A YOUTUBE VIDEO WILL TREND?"
   ]
  },
  {
   "cell_type": "code",
   "execution_count": 1,
   "metadata": {},
   "outputs": [],
   "source": [
    "import pandas as pd\n",
    "import matplotlib.pyplot as plt\n",
    "import re\n",
    "import datetime\n",
    "\n",
    "from pandas.plotting import register_matplotlib_converters\n",
    "register_matplotlib_converters()\n",
    "\n",
    "from functools import partial\n",
    "to_datetime_fmt = partial(pd.to_datetime, format='%Y.%d.%m')"
   ]
  },
  {
   "cell_type": "code",
   "execution_count": 2,
   "metadata": {},
   "outputs": [
    {
     "data": {
      "text/html": [
       "<div>\n",
       "<style scoped>\n",
       "    .dataframe tbody tr th:only-of-type {\n",
       "        vertical-align: middle;\n",
       "    }\n",
       "\n",
       "    .dataframe tbody tr th {\n",
       "        vertical-align: top;\n",
       "    }\n",
       "\n",
       "    .dataframe thead th {\n",
       "        text-align: right;\n",
       "    }\n",
       "</style>\n",
       "<table border=\"1\" class=\"dataframe\">\n",
       "  <thead>\n",
       "    <tr style=\"text-align: right;\">\n",
       "      <th></th>\n",
       "      <th>video_id</th>\n",
       "      <th>trending_date</th>\n",
       "      <th>title</th>\n",
       "      <th>channel_title</th>\n",
       "      <th>category_id</th>\n",
       "      <th>publish_time</th>\n",
       "      <th>tags</th>\n",
       "      <th>views</th>\n",
       "      <th>likes</th>\n",
       "      <th>dislikes</th>\n",
       "      <th>comment_count</th>\n",
       "      <th>thumbnail_link</th>\n",
       "      <th>comments_disabled</th>\n",
       "      <th>ratings_disabled</th>\n",
       "      <th>video_error_or_removed</th>\n",
       "      <th>description</th>\n",
       "    </tr>\n",
       "  </thead>\n",
       "  <tbody>\n",
       "    <tr>\n",
       "      <td>10</td>\n",
       "      <td>9wRQljFNDW8</td>\n",
       "      <td>2017-11-14</td>\n",
       "      <td>Dion Lewis' 103-Yd Kick Return TD vs. Denver! ...</td>\n",
       "      <td>NFL</td>\n",
       "      <td>17</td>\n",
       "      <td>2017-11-13T02:05:26.000Z</td>\n",
       "      <td>NFL|\"Football\"|\"offense\"|\"defense\"|\"afc\"|\"nfc\"...</td>\n",
       "      <td>81377</td>\n",
       "      <td>655</td>\n",
       "      <td>25</td>\n",
       "      <td>177</td>\n",
       "      <td>https://i.ytimg.com/vi/9wRQljFNDW8/default.jpg</td>\n",
       "      <td>False</td>\n",
       "      <td>False</td>\n",
       "      <td>False</td>\n",
       "      <td>New England Patriots returner Dion Lewis blast...</td>\n",
       "    </tr>\n",
       "    <tr>\n",
       "      <td>36</td>\n",
       "      <td>Om_zGhJLZ5U</td>\n",
       "      <td>2017-11-14</td>\n",
       "      <td>TL;DW - Every DCEU Movie Before Justice League</td>\n",
       "      <td>Screen Junkies</td>\n",
       "      <td>1</td>\n",
       "      <td>2017-11-12T18:00:03.000Z</td>\n",
       "      <td>screenjunkies|\"screen junkies\"|\"sj news\"|\"hone...</td>\n",
       "      <td>288922</td>\n",
       "      <td>7515</td>\n",
       "      <td>792</td>\n",
       "      <td>2111</td>\n",
       "      <td>https://i.ytimg.com/vi/Om_zGhJLZ5U/default.jpg</td>\n",
       "      <td>False</td>\n",
       "      <td>False</td>\n",
       "      <td>False</td>\n",
       "      <td>With Justice League approaching fast we rewatc...</td>\n",
       "    </tr>\n",
       "    <tr>\n",
       "      <td>41</td>\n",
       "      <td>goP4Z5wyOlM</td>\n",
       "      <td>2017-11-14</td>\n",
       "      <td>Iraq-Iran earthquake: Deadly tremor hits borde...</td>\n",
       "      <td>BBC News</td>\n",
       "      <td>25</td>\n",
       "      <td>2017-11-12T21:16:40.000Z</td>\n",
       "      <td>bbc|\"bbc news\"|\"news\"|\"iran\"|\"iran news\"|\"iraq...</td>\n",
       "      <td>34785</td>\n",
       "      <td>308</td>\n",
       "      <td>26</td>\n",
       "      <td>413</td>\n",
       "      <td>https://i.ytimg.com/vi/goP4Z5wyOlM/default.jpg</td>\n",
       "      <td>False</td>\n",
       "      <td>False</td>\n",
       "      <td>False</td>\n",
       "      <td>A strong 7.2-magnitude earthquake has rattled ...</td>\n",
       "    </tr>\n",
       "    <tr>\n",
       "      <td>55</td>\n",
       "      <td>8NHA23f7LvU</td>\n",
       "      <td>2017-11-14</td>\n",
       "      <td>Jason Momoa Wows Hugh Grant With Some Dothraki...</td>\n",
       "      <td>The Graham Norton Show</td>\n",
       "      <td>24</td>\n",
       "      <td>2017-11-10T19:06:23.000Z</td>\n",
       "      <td>Graham Norton|\"Graham Norton Show Official\"|\"E...</td>\n",
       "      <td>1496225</td>\n",
       "      <td>16116</td>\n",
       "      <td>236</td>\n",
       "      <td>605</td>\n",
       "      <td>https://i.ytimg.com/vi/8NHA23f7LvU/default.jpg</td>\n",
       "      <td>False</td>\n",
       "      <td>False</td>\n",
       "      <td>False</td>\n",
       "      <td>I think Sarah Millican was very excited for th...</td>\n",
       "    </tr>\n",
       "    <tr>\n",
       "      <td>76</td>\n",
       "      <td>IE-xepGLVt8</td>\n",
       "      <td>2017-11-14</td>\n",
       "      <td>Mayo Clinic's first face transplant patient me...</td>\n",
       "      <td>Mayo Clinic</td>\n",
       "      <td>28</td>\n",
       "      <td>2017-11-10T12:04:17.000Z</td>\n",
       "      <td>Mayo Clinic|\"Health Care (Issue)\"|\"Healthcare ...</td>\n",
       "      <td>237307</td>\n",
       "      <td>1896</td>\n",
       "      <td>74</td>\n",
       "      <td>260</td>\n",
       "      <td>https://i.ytimg.com/vi/IE-xepGLVt8/default.jpg</td>\n",
       "      <td>False</td>\n",
       "      <td>False</td>\n",
       "      <td>False</td>\n",
       "      <td>One and a half years after the surgery that tr...</td>\n",
       "    </tr>\n",
       "  </tbody>\n",
       "</table>\n",
       "</div>"
      ],
      "text/plain": [
       "       video_id trending_date  \\\n",
       "10  9wRQljFNDW8    2017-11-14   \n",
       "36  Om_zGhJLZ5U    2017-11-14   \n",
       "41  goP4Z5wyOlM    2017-11-14   \n",
       "55  8NHA23f7LvU    2017-11-14   \n",
       "76  IE-xepGLVt8    2017-11-14   \n",
       "\n",
       "                                                title           channel_title  \\\n",
       "10  Dion Lewis' 103-Yd Kick Return TD vs. Denver! ...                     NFL   \n",
       "36     TL;DW - Every DCEU Movie Before Justice League          Screen Junkies   \n",
       "41  Iraq-Iran earthquake: Deadly tremor hits borde...                BBC News   \n",
       "55  Jason Momoa Wows Hugh Grant With Some Dothraki...  The Graham Norton Show   \n",
       "76  Mayo Clinic's first face transplant patient me...             Mayo Clinic   \n",
       "\n",
       "    category_id              publish_time  \\\n",
       "10           17  2017-11-13T02:05:26.000Z   \n",
       "36            1  2017-11-12T18:00:03.000Z   \n",
       "41           25  2017-11-12T21:16:40.000Z   \n",
       "55           24  2017-11-10T19:06:23.000Z   \n",
       "76           28  2017-11-10T12:04:17.000Z   \n",
       "\n",
       "                                                 tags    views  likes  \\\n",
       "10  NFL|\"Football\"|\"offense\"|\"defense\"|\"afc\"|\"nfc\"...    81377    655   \n",
       "36  screenjunkies|\"screen junkies\"|\"sj news\"|\"hone...   288922   7515   \n",
       "41  bbc|\"bbc news\"|\"news\"|\"iran\"|\"iran news\"|\"iraq...    34785    308   \n",
       "55  Graham Norton|\"Graham Norton Show Official\"|\"E...  1496225  16116   \n",
       "76  Mayo Clinic|\"Health Care (Issue)\"|\"Healthcare ...   237307   1896   \n",
       "\n",
       "    dislikes  comment_count                                  thumbnail_link  \\\n",
       "10        25            177  https://i.ytimg.com/vi/9wRQljFNDW8/default.jpg   \n",
       "36       792           2111  https://i.ytimg.com/vi/Om_zGhJLZ5U/default.jpg   \n",
       "41        26            413  https://i.ytimg.com/vi/goP4Z5wyOlM/default.jpg   \n",
       "55       236            605  https://i.ytimg.com/vi/8NHA23f7LvU/default.jpg   \n",
       "76        74            260  https://i.ytimg.com/vi/IE-xepGLVt8/default.jpg   \n",
       "\n",
       "    comments_disabled  ratings_disabled  video_error_or_removed  \\\n",
       "10              False             False                   False   \n",
       "36              False             False                   False   \n",
       "41              False             False                   False   \n",
       "55              False             False                   False   \n",
       "76              False             False                   False   \n",
       "\n",
       "                                          description  \n",
       "10  New England Patriots returner Dion Lewis blast...  \n",
       "36  With Justice League approaching fast we rewatc...  \n",
       "41  A strong 7.2-magnitude earthquake has rattled ...  \n",
       "55  I think Sarah Millican was very excited for th...  \n",
       "76  One and a half years after the surgery that tr...  "
      ]
     },
     "execution_count": 2,
     "metadata": {},
     "output_type": "execute_result"
    }
   ],
   "source": [
    "yt_videos = pd.read_csv('USvideos.csv')\n",
    "\n",
    "# Remove all Nan rows\n",
    "yt_videos = yt_videos.dropna()\n",
    "\n",
    "# Remove repeat videos but keep the one that has the most views\n",
    "yt_videos = yt_videos.sort_values('views', ascending=False).drop_duplicates('video_id').sort_index()\n",
    "\n",
    "# Convert the trending_date column to a datetime object for easier use\n",
    "yt_videos['trending_date'] = '20' + yt_videos['trending_date'].astype(str)\n",
    "yt_videos['trending_date'] = yt_videos['trending_date'].apply(to_datetime_fmt)\n",
    "\n",
    "yt_videos.head()"
   ]
  },
  {
   "cell_type": "markdown",
   "metadata": {},
   "source": [
    "===== EDA: Find 5 most viewed Youtube Videos =====\n",
    "The most viewed video on Youtube is \"This is America\" by ChildishGambinoVEVO with 225,211,923 views. The second most viewed video is \"YouTube Rewind 2017\" by YouTube Spotlight with 149,376,127 views. The third most viewed video is \"No Tears Left To Cry\" by Ariana Grande."
   ]
  },
  {
   "cell_type": "code",
   "execution_count": 3,
   "metadata": {},
   "outputs": [
    {
     "data": {
      "text/html": [
       "<div>\n",
       "<style scoped>\n",
       "    .dataframe tbody tr th:only-of-type {\n",
       "        vertical-align: middle;\n",
       "    }\n",
       "\n",
       "    .dataframe tbody tr th {\n",
       "        vertical-align: top;\n",
       "    }\n",
       "\n",
       "    .dataframe thead th {\n",
       "        text-align: right;\n",
       "    }\n",
       "</style>\n",
       "<table border=\"1\" class=\"dataframe\">\n",
       "  <thead>\n",
       "    <tr style=\"text-align: right;\">\n",
       "      <th></th>\n",
       "      <th>video_id</th>\n",
       "      <th>trending_date</th>\n",
       "      <th>title</th>\n",
       "      <th>channel_title</th>\n",
       "      <th>category_id</th>\n",
       "      <th>publish_time</th>\n",
       "      <th>tags</th>\n",
       "      <th>views</th>\n",
       "      <th>likes</th>\n",
       "      <th>dislikes</th>\n",
       "      <th>comment_count</th>\n",
       "      <th>thumbnail_link</th>\n",
       "      <th>comments_disabled</th>\n",
       "      <th>ratings_disabled</th>\n",
       "      <th>video_error_or_removed</th>\n",
       "      <th>description</th>\n",
       "    </tr>\n",
       "  </thead>\n",
       "  <tbody>\n",
       "    <tr>\n",
       "      <td>38547</td>\n",
       "      <td>VYOjWnS4cMY</td>\n",
       "      <td>2018-06-02</td>\n",
       "      <td>Childish Gambino - This Is America (Official V...</td>\n",
       "      <td>ChildishGambinoVEVO</td>\n",
       "      <td>10</td>\n",
       "      <td>2018-05-06T04:00:07.000Z</td>\n",
       "      <td>Childish Gambino|\"Rap\"|\"This Is America\"|\"mcDJ...</td>\n",
       "      <td>225211923</td>\n",
       "      <td>5023450</td>\n",
       "      <td>343541</td>\n",
       "      <td>517232</td>\n",
       "      <td>https://i.ytimg.com/vi/VYOjWnS4cMY/default.jpg</td>\n",
       "      <td>False</td>\n",
       "      <td>False</td>\n",
       "      <td>False</td>\n",
       "      <td>“This is America” by Childish Gambino http://s...</td>\n",
       "    </tr>\n",
       "    <tr>\n",
       "      <td>6181</td>\n",
       "      <td>FlsCjmMhFmw</td>\n",
       "      <td>2017-12-14</td>\n",
       "      <td>YouTube Rewind: The Shape of 2017 | #YouTubeRe...</td>\n",
       "      <td>YouTube Spotlight</td>\n",
       "      <td>24</td>\n",
       "      <td>2017-12-06T17:58:51.000Z</td>\n",
       "      <td>Rewind|\"Rewind 2017\"|\"youtube rewind 2017\"|\"#Y...</td>\n",
       "      <td>149376127</td>\n",
       "      <td>3093544</td>\n",
       "      <td>1643059</td>\n",
       "      <td>810698</td>\n",
       "      <td>https://i.ytimg.com/vi/FlsCjmMhFmw/default.jpg</td>\n",
       "      <td>False</td>\n",
       "      <td>False</td>\n",
       "      <td>False</td>\n",
       "      <td>YouTube Rewind 2017. Celebrating the videos, p...</td>\n",
       "    </tr>\n",
       "    <tr>\n",
       "      <td>34708</td>\n",
       "      <td>ffxKSjUwKdU</td>\n",
       "      <td>2018-05-14</td>\n",
       "      <td>Ariana Grande - No Tears Left To Cry</td>\n",
       "      <td>ArianaGrandeVevo</td>\n",
       "      <td>10</td>\n",
       "      <td>2018-04-20T04:00:03.000Z</td>\n",
       "      <td>Ariana|\"Grande\"|\"No\"|\"Tears\"|\"Left\"|\"To\"|\"Cry\"...</td>\n",
       "      <td>148689896</td>\n",
       "      <td>3094021</td>\n",
       "      <td>129502</td>\n",
       "      <td>242039</td>\n",
       "      <td>https://i.ytimg.com/vi/ffxKSjUwKdU/default.jpg</td>\n",
       "      <td>False</td>\n",
       "      <td>False</td>\n",
       "      <td>False</td>\n",
       "      <td>No Tears Left To Cry (Official Video)Song Avai...</td>\n",
       "    </tr>\n",
       "  </tbody>\n",
       "</table>\n",
       "</div>"
      ],
      "text/plain": [
       "          video_id trending_date  \\\n",
       "38547  VYOjWnS4cMY    2018-06-02   \n",
       "6181   FlsCjmMhFmw    2017-12-14   \n",
       "34708  ffxKSjUwKdU    2018-05-14   \n",
       "\n",
       "                                                   title        channel_title  \\\n",
       "38547  Childish Gambino - This Is America (Official V...  ChildishGambinoVEVO   \n",
       "6181   YouTube Rewind: The Shape of 2017 | #YouTubeRe...    YouTube Spotlight   \n",
       "34708               Ariana Grande - No Tears Left To Cry     ArianaGrandeVevo   \n",
       "\n",
       "       category_id              publish_time  \\\n",
       "38547           10  2018-05-06T04:00:07.000Z   \n",
       "6181            24  2017-12-06T17:58:51.000Z   \n",
       "34708           10  2018-04-20T04:00:03.000Z   \n",
       "\n",
       "                                                    tags      views    likes  \\\n",
       "38547  Childish Gambino|\"Rap\"|\"This Is America\"|\"mcDJ...  225211923  5023450   \n",
       "6181   Rewind|\"Rewind 2017\"|\"youtube rewind 2017\"|\"#Y...  149376127  3093544   \n",
       "34708  Ariana|\"Grande\"|\"No\"|\"Tears\"|\"Left\"|\"To\"|\"Cry\"...  148689896  3094021   \n",
       "\n",
       "       dislikes  comment_count  \\\n",
       "38547    343541         517232   \n",
       "6181    1643059         810698   \n",
       "34708    129502         242039   \n",
       "\n",
       "                                       thumbnail_link  comments_disabled  \\\n",
       "38547  https://i.ytimg.com/vi/VYOjWnS4cMY/default.jpg              False   \n",
       "6181   https://i.ytimg.com/vi/FlsCjmMhFmw/default.jpg              False   \n",
       "34708  https://i.ytimg.com/vi/ffxKSjUwKdU/default.jpg              False   \n",
       "\n",
       "       ratings_disabled  video_error_or_removed  \\\n",
       "38547             False                   False   \n",
       "6181              False                   False   \n",
       "34708             False                   False   \n",
       "\n",
       "                                             description  \n",
       "38547  “This is America” by Childish Gambino http://s...  \n",
       "6181   YouTube Rewind 2017. Celebrating the videos, p...  \n",
       "34708  No Tears Left To Cry (Official Video)Song Avai...  "
      ]
     },
     "execution_count": 3,
     "metadata": {},
     "output_type": "execute_result"
    }
   ],
   "source": [
    "most_viewed_videos = yt_videos.nlargest(3, ['views'])\n",
    "most_viewed_videos"
   ]
  },
  {
   "cell_type": "markdown",
   "metadata": {},
   "source": [
    "===== EDA: Find 3 most viewed Youtube Channels =====\n",
    "The most viewed channel on Youtube is ibighit with 271,753,404 views. The second most viewed channel is ChildishGambinoVEVO with 225,211,923 views. The third most viewed channel is Dude Perfect with 206,044,429 views."
   ]
  },
  {
   "cell_type": "code",
   "execution_count": 4,
   "metadata": {},
   "outputs": [
    {
     "data": {
      "text/plain": [
       "[('ibighit', 271753404),\n",
       " ('ChildishGambinoVEVO', 225211923),\n",
       " ('Dude Perfect', 206044429)]"
      ]
     },
     "execution_count": 4,
     "metadata": {},
     "output_type": "execute_result"
    }
   ],
   "source": [
    "unique_channels = {k:0 for k in yt_videos['channel_title']}\n",
    "\n",
    "for index, row in yt_videos.iterrows():\n",
    "    # Sum up video views for each channel\n",
    "    unique_channels[row['channel_title']] += row['views']\n",
    "    \n",
    "channels_sorted_by_total_views = sorted(unique_channels.items(), key=lambda x: x[1], reverse=True)\n",
    "channels_sorted_by_total_views[:3]"
   ]
  },
  {
   "cell_type": "markdown",
   "metadata": {},
   "source": [
    "===== EDA: Find most popular video categories =====\n",
    "The most viewed category on youtube is Music with 4,808,027,719 views. The second most viewed category is Entertainment with 2,784,320,840 views. The third most viewed category is Film & Animation with 825,269,649 views."
   ]
  },
  {
   "cell_type": "code",
   "execution_count": 5,
   "metadata": {},
   "outputs": [
    {
     "data": {
      "text/plain": [
       "[(10, 4808027719), (24, 2784320840), (1, 825269649)]"
      ]
     },
     "execution_count": 5,
     "metadata": {},
     "output_type": "execute_result"
    }
   ],
   "source": [
    "category_views = {k:0 for k in yt_videos['category_id']}\n",
    "\n",
    "for index, row in yt_videos.iterrows():\n",
    "    category_views[row['category_id']] += row['views']\n",
    "\n",
    "categories_sorted_by_total_views = sorted(category_views.items(), key=lambda x: x[1], reverse=True)\n",
    "categories_sorted_by_total_views[:3]"
   ]
  },
  {
   "cell_type": "markdown",
   "metadata": {},
   "source": [
    "===== EDA: Plot Time series chart of all views ====="
   ]
  },
  {
   "cell_type": "code",
   "execution_count": 6,
   "metadata": {},
   "outputs": [
    {
     "data": {
      "image/png": "[encoded data removed]",
      "text/plain": [
       "<Figure size 1080x720 with 1 Axes>"
      ]
     },
     "metadata": {
      "needs_background": "light"
     },
     "output_type": "display_data"
    }
   ],
   "source": [
    "# Create a new column for publish date\n",
    "publish_date = []\n",
    "\n",
    "for index, row in yt_videos.iterrows():\n",
    "    # Extract the date from the date-time object using regex\n",
    "    date = re.search(r\"[0-9]{4}-[0-9]{2}-[0-9]{2}\", row['publish_time'])\n",
    "    publish_date.append(date.group())\n",
    "\n",
    "# Add the new date column\n",
    "yt_videos['publish_date'] = publish_date\n",
    "\n",
    "# Convert the new date column to a datetime object\n",
    "yt_videos['publish_date'] = pd.to_datetime(yt_videos['publish_date'])\n",
    "\n",
    "# Sort the dataframe in ascending order by datetime\n",
    "yt_videos = yt_videos.sort_values(by='publish_date')\n",
    "\n",
    "views_per_day = {k:0 for k in yt_videos['publish_date']}\n",
    "cutoff_date = datetime.datetime(2018,1,1)\n",
    "\n",
    "# Only tally views on days that come on or after January 1, 2018\n",
    "# This is because most of the data occurs in 2018\n",
    "for index, row in yt_videos.iterrows():\n",
    "    if row['publish_date'] >= cutoff_date:\n",
    "        views_per_day[row['publish_date']] += row['views']\n",
    "\n",
    "# Only consider views that are greater than zero\n",
    "dates = [k for k,v in views_per_day.items() if v > 0] \n",
    "views = [v for k,v in views_per_day.items() if v > 0] \n",
    "\n",
    "# Draw the Time Series Plot\n",
    "plt.figure(figsize=(15,10))\n",
    "plt.plot(dates, views)\n",
    "plt.xlabel(\"Time\")\n",
    "plt.title(\"Views per Day in 2018\")\n",
    "plt.ylabel(\"Views\")\n",
    "plt.show()"
   ]
  },
  {
   "cell_type": "markdown",
   "metadata": {},
   "source": [
    "===== EDA: Determine the average time it takes for videos to trend =====\n",
    "On average, it takes a youtube video roughly 8 days to trend since the day it is first published.\n",
    "- Can do two analyses: one with cutoff and one w/o cutoff -> can also plot as a timeseries -> can show the magical \"youtube algorithm\" at work recommending old videos"
   ]
  },
  {
   "cell_type": "code",
   "execution_count": 25,
   "metadata": {},
   "outputs": [
    {
     "name": "stdout",
     "output_type": "stream",
     "text": [
      "8.011082138200782\n"
     ]
    }
   ],
   "source": [
    "# Create a new column for the amount of days it takes for a video to trend since its publish date\n",
    "yt_videos['time_to_trend'] = yt_videos['trending_date'] - yt_videos['publish_date']\n",
    "yt_videos['time_to_trend'] = yt_videos['time_to_trend'].dt.days\n",
    "\n",
    "# Only want to sum videos that were released after 11-08-2017 since there are many outliers before this date\n",
    "trend_cutoff_date = datetime.datetime(2017,11,8)\n",
    "\n",
    "# Calculate the average trend time but summing time to trend divided by the number of data points\n",
    "avg_time_to_trend = yt_videos.loc[yt_videos['publish_date'] > trend_cutoff_date, 'time_to_trend'].sum()\n",
    "num_data_points = len(yt_videos[yt_videos['publish_date'] > trend_cutoff_date])\n",
    "\n",
    "print(avg_time_to_trend/num_data_points)\n"
   ]
  },
  {
   "cell_type": "markdown",
   "metadata": {},
   "source": [
    "===== Try to predict what features make youtube videos trend -> if need more data then use other country datasets -> can also do a similar analysis of what makes a youtube video trend in the US vs other countries and if they differ ====="
   ]
  }
 ],
 "metadata": {
  "kernelspec": {
   "display_name": "Python 3",
   "language": "python",
   "name": "python3"
  },
  "language_info": {
   "codemirror_mode": {
    "name": "ipython",
    "version": 3
   },
   "file_extension": ".py",
   "mimetype": "text/x-python",
   "name": "python",
   "nbconvert_exporter": "python",
   "pygments_lexer": "ipython3",
   "version": "3.7.3"
  }
 },
 "nbformat": 4,
 "nbformat_minor": 2
}
